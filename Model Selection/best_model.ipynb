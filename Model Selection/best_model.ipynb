{
 "cells": [
  {
   "cell_type": "markdown",
   "metadata": {},
   "source": [
    " ## Model Selection\n",
    " ##### This is the process of choosing the best suited model for a particular problem. May depend on dataset , task, nature of model etc\n",
    " **Two main factors to consider**\n",
    " - Logical reason to select the model\n",
    " - Comparing the performance of the model "
   ]
  },
  {
   "cell_type": "markdown",
   "metadata": {},
   "source": [
    "Models can be selected depending on \n",
    "1. Type of data available\n",
    "    - Image or videos-CNN\n",
    "    - Text data or speech data - RNN\n",
    "    - Numeric data - svm, logistics,decision trees\n",
    "2. Task we want to carry out \n",
    "    - classification - svm, logististics,naive bayes,knn\n",
    "    - Regression tasks - linear reg, ensemble models\n",
    "    - Clustering tasks- K-means clustering,Hierarchical clustering        \n"
   ]
  },
  {
   "cell_type": "markdown",
   "metadata": {},
   "source": [
    "**Import neccessary packages**"
   ]
  },
  {
   "cell_type": "code",
   "execution_count": 1,
   "metadata": {},
   "outputs": [],
   "source": [
    "import numpy as np\n",
    "import pandas as pd\n",
    "from sklearn.model_selection import cross_val_score\n",
    "from sklearn.model_selection import GridSearchCV "
   ]
  },
  {
   "cell_type": "code",
   "execution_count": 2,
   "metadata": {},
   "outputs": [],
   "source": [
    "# importing the models\n",
    "from sklearn.linear_model import LogisticRegression\n",
    "from sklearn.svm import SVC\n",
    "from sklearn.neighbors import KNeighborsClassifier\n",
    "from sklearn.ensemble import RandomForestClassifier"
   ]
  },
  {
   "cell_type": "code",
   "execution_count": 3,
   "metadata": {},
   "outputs": [],
   "source": [
    "#lets load the data set\n",
    "data = pd.read_csv('heart.csv')"
   ]
  },
  {
   "cell_type": "code",
   "execution_count": 4,
   "metadata": {},
   "outputs": [
    {
     "data": {
      "text/plain": [
       "(303, 14)"
      ]
     },
     "execution_count": 4,
     "metadata": {},
     "output_type": "execute_result"
    }
   ],
   "source": [
    "# number of columns and rows\n",
    "data.shape"
   ]
  },
  {
   "cell_type": "code",
   "execution_count": 5,
   "metadata": {},
   "outputs": [
    {
     "data": {
      "text/plain": [
       "age         0\n",
       "sex         0\n",
       "cp          0\n",
       "trestbps    0\n",
       "chol        0\n",
       "fbs         0\n",
       "restecg     0\n",
       "thalach     0\n",
       "exang       0\n",
       "oldpeak     0\n",
       "slope       0\n",
       "ca          0\n",
       "thal        0\n",
       "target      0\n",
       "dtype: int64"
      ]
     },
     "execution_count": 5,
     "metadata": {},
     "output_type": "execute_result"
    }
   ],
   "source": [
    "#check for null values \n",
    "data.isnull().sum()"
   ]
  },
  {
   "cell_type": "code",
   "execution_count": 6,
   "metadata": {},
   "outputs": [
    {
     "data": {
      "text/plain": [
       "target\n",
       "1    165\n",
       "0    138\n",
       "Name: count, dtype: int64"
      ]
     },
     "execution_count": 6,
     "metadata": {},
     "output_type": "execute_result"
    }
   ],
   "source": [
    "#check distribution of target variable\n",
    "data[\"target\"].value_counts()"
   ]
  },
  {
   "cell_type": "code",
   "execution_count": 7,
   "metadata": {},
   "outputs": [],
   "source": [
    "# separate data into response and predictor variable\n",
    "y = data[\"target\"]\n",
    "X= data.drop(\"target\", axis=1)"
   ]
  },
  {
   "cell_type": "code",
   "execution_count": 8,
   "metadata": {},
   "outputs": [],
   "source": [
    "#convert to numpy array\n",
    "X = np.asarray(X)\n",
    "y=np.asarray(y)"
   ]
  },
  {
   "cell_type": "markdown",
   "metadata": {},
   "source": [
    "**Model Selection**"
   ]
  },
  {
   "cell_type": "markdown",
   "metadata": {},
   "source": [
    "#### Compare Models with default hyperparameters using the cross_val_score"
   ]
  },
  {
   "cell_type": "code",
   "execution_count": 9,
   "metadata": {},
   "outputs": [],
   "source": [
    "# create a list of models \n",
    "models=[LogisticRegression(max_iter=1000),SVC(kernel=\"linear\"),KNeighborsClassifier(),RandomForestClassifier(random_state=0)]"
   ]
  },
  {
   "cell_type": "code",
   "execution_count": 10,
   "metadata": {},
   "outputs": [],
   "source": [
    "#create a function that returns accuracy score of each model \n",
    "def model_comparison():\n",
    "    for model in models:\n",
    "        cv_score = cross_val_score(model,X,y,cv=5)\n",
    "        mean_cv_score = round((sum(cv_score)/len(cv_score))*100,2)\n",
    "        print(f'the cross value scores for {model} are {cv_score}')\n",
    "        print(f'mean accuracy score for {model} is {mean_cv_score} %')\n",
    "        print(\"*************************************************\")"
   ]
  },
  {
   "cell_type": "code",
   "execution_count": 11,
   "metadata": {},
   "outputs": [
    {
     "name": "stdout",
     "output_type": "stream",
     "text": [
      "the cross value scores for LogisticRegression(max_iter=1000) are [0.80327869 0.86885246 0.85245902 0.86666667 0.75      ]\n",
      "mean accuracy score for LogisticRegression(max_iter=1000) is 82.83 %\n",
      "*************************************************\n",
      "the cross value scores for SVC(kernel='linear') are [0.81967213 0.8852459  0.80327869 0.86666667 0.76666667]\n",
      "mean accuracy score for SVC(kernel='linear') is 82.83 %\n",
      "*************************************************\n",
      "the cross value scores for KNeighborsClassifier() are [0.60655738 0.6557377  0.57377049 0.73333333 0.65      ]\n",
      "mean accuracy score for KNeighborsClassifier() is 64.39 %\n",
      "*************************************************\n",
      "the cross value scores for RandomForestClassifier(random_state=0) are [0.85245902 0.90163934 0.81967213 0.81666667 0.8       ]\n",
      "mean accuracy score for RandomForestClassifier(random_state=0) is 83.81 %\n",
      "*************************************************\n"
     ]
    }
   ],
   "source": [
    "model_comparison()"
   ]
  },
  {
   "cell_type": "markdown",
   "metadata": {},
   "source": []
  },
  {
   "cell_type": "code",
   "execution_count": 25,
   "metadata": {},
   "outputs": [],
   "source": [
    "# Define Models\n",
    "models_list = models=[LogisticRegression(max_iter=10000),SVC(),KNeighborsClassifier(),RandomForestClassifier(random_state=0)]"
   ]
  },
  {
   "cell_type": "code",
   "execution_count": 26,
   "metadata": {},
   "outputs": [],
   "source": [
    "#define the model with hyperparameters for tuning\n",
    "hyperparameters = {\n",
    "    \"logistic_regression\": {\n",
    "        \"C\": [1, 5, 10, 20]\n",
    "    },\n",
    "    \"support_vector_machine\": {\n",
    "        \"kernel\": [\"linear\", \"rbf\", \"poly\", \"sigmoid\"],\n",
    "        \"C\":[1,5,10,20]\n",
    "    },\n",
    "    \"k_nearest_neighbors\": {\n",
    "        \"n_neighbors\": [3, 5, 10]\n",
    "    \n",
    "    },\n",
    "    \"random_forest\": {\n",
    "        \"n_estimators\": [10, 20, 50, 100]\n",
    "    }\n",
    "}\n"
   ]
  },
  {
   "cell_type": "code",
   "execution_count": 27,
   "metadata": {},
   "outputs": [
    {
     "data": {
      "text/plain": [
       "'logistic_regression'"
      ]
     },
     "execution_count": 27,
     "metadata": {},
     "output_type": "execute_result"
    }
   ],
   "source": [
    "model_keys=list(hyperparameters.keys())\n",
    "model_keys[0]"
   ]
  },
  {
   "cell_type": "code",
   "execution_count": 28,
   "metadata": {},
   "outputs": [
    {
     "data": {
      "text/plain": [
       "{'C': [1, 5, 10, 20]}"
      ]
     },
     "execution_count": 28,
     "metadata": {},
     "output_type": "execute_result"
    }
   ],
   "source": [
    "hyperparameters[model_keys[0]]"
   ]
  },
  {
   "cell_type": "code",
   "execution_count": 42,
   "metadata": {},
   "outputs": [],
   "source": [
    "#define the function\n",
    "def modelSelection(list_of_models, hyperparameters_dict):\n",
    "    results = []\n",
    "    i = 0\n",
    "\n",
    "    for model in list_of_models:\n",
    "        key = model_keys[i]\n",
    "        param = hyperparameters_dict[key]\n",
    "        i+=1\n",
    "\n",
    "        print(model)\n",
    "        print(param)\n",
    "\n",
    "        classifier = GridSearchCV(model, param, cv=5)\n",
    "        classifier.fit(X, y)\n",
    "\n",
    "        results.append({\n",
    "            \"model_used\": model.__class__.__name__,\n",
    "            \"highest_score\": classifier.best_score_,\n",
    "            \"best_hyperparams\": classifier.best_params_\n",
    "        })\n",
    "\n",
    "    results_dataframe = pd.DataFrame(results, columns=[\"model_used\", \"highest_score\", \"best_hyperparams\"])\n",
    "    return results_dataframe  "
   ]
  },
  {
   "cell_type": "code",
   "execution_count": 43,
   "metadata": {},
   "outputs": [
    {
     "name": "stdout",
     "output_type": "stream",
     "text": [
      "LogisticRegression(max_iter=10000)\n",
      "{'C': [1, 5, 10, 20]}\n"
     ]
    },
    {
     "name": "stdout",
     "output_type": "stream",
     "text": [
      "SVC()\n",
      "{'kernel': ['linear', 'rbf', 'poly', 'sigmoid'], 'C': [1, 5, 10, 20]}\n",
      "KNeighborsClassifier()\n",
      "{'n_neighbors': [3, 5, 10]}\n",
      "RandomForestClassifier(random_state=0)\n",
      "{'n_estimators': [10, 20, 50, 100]}\n"
     ]
    },
    {
     "data": {
      "text/html": [
       "<div>\n",
       "<style scoped>\n",
       "    .dataframe tbody tr th:only-of-type {\n",
       "        vertical-align: middle;\n",
       "    }\n",
       "\n",
       "    .dataframe tbody tr th {\n",
       "        vertical-align: top;\n",
       "    }\n",
       "\n",
       "    .dataframe thead th {\n",
       "        text-align: right;\n",
       "    }\n",
       "</style>\n",
       "<table border=\"1\" class=\"dataframe\">\n",
       "  <thead>\n",
       "    <tr style=\"text-align: right;\">\n",
       "      <th></th>\n",
       "      <th>model_used</th>\n",
       "      <th>highest_score</th>\n",
       "      <th>best_hyperparams</th>\n",
       "    </tr>\n",
       "  </thead>\n",
       "  <tbody>\n",
       "    <tr>\n",
       "      <th>0</th>\n",
       "      <td>LogisticRegression</td>\n",
       "      <td>0.831585</td>\n",
       "      <td>{'C': 5}</td>\n",
       "    </tr>\n",
       "    <tr>\n",
       "      <th>1</th>\n",
       "      <td>SVC</td>\n",
       "      <td>0.828306</td>\n",
       "      <td>{'C': 1, 'kernel': 'linear'}</td>\n",
       "    </tr>\n",
       "    <tr>\n",
       "      <th>2</th>\n",
       "      <td>KNeighborsClassifier</td>\n",
       "      <td>0.643880</td>\n",
       "      <td>{'n_neighbors': 5}</td>\n",
       "    </tr>\n",
       "    <tr>\n",
       "      <th>3</th>\n",
       "      <td>RandomForestClassifier</td>\n",
       "      <td>0.838087</td>\n",
       "      <td>{'n_estimators': 100}</td>\n",
       "    </tr>\n",
       "  </tbody>\n",
       "</table>\n",
       "</div>"
      ],
      "text/plain": [
       "               model_used  highest_score              best_hyperparams\n",
       "0      LogisticRegression       0.831585                      {'C': 5}\n",
       "1                     SVC       0.828306  {'C': 1, 'kernel': 'linear'}\n",
       "2    KNeighborsClassifier       0.643880            {'n_neighbors': 5}\n",
       "3  RandomForestClassifier       0.838087         {'n_estimators': 100}"
      ]
     },
     "execution_count": 43,
     "metadata": {},
     "output_type": "execute_result"
    }
   ],
   "source": [
    "modelSelection(models_list,hyperparameters)"
   ]
  },
  {
   "cell_type": "code",
   "execution_count": null,
   "metadata": {},
   "outputs": [],
   "source": []
  }
 ],
 "metadata": {
  "kernelspec": {
   "display_name": "pythonwk1",
   "language": "python",
   "name": "python3"
  },
  "language_info": {
   "codemirror_mode": {
    "name": "ipython",
    "version": 3
   },
   "file_extension": ".py",
   "mimetype": "text/x-python",
   "name": "python",
   "nbconvert_exporter": "python",
   "pygments_lexer": "ipython3",
   "version": "3.11.7"
  }
 },
 "nbformat": 4,
 "nbformat_minor": 2
}
